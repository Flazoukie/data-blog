{
 "cells": [
  {
   "cell_type": "code",
   "execution_count": null,
   "id": "d69b57f0bcf60ed0",
   "metadata": {},
   "outputs": [],
   "source": [
    "---\n",
    "title: \"My Post Title\"\n",
    "date: 2025-05-15\n",
    "draft: true\n",
    "format: html\n",
    "jupyter: true\n",
    "---"
   ]
  },
  {
   "cell_type": "code",
   "execution_count": 2,
   "id": "initial_id",
   "metadata": {},
   "outputs": [],
   "source": [
    "# load libraries\n",
    "\n",
    "# get data from Kaggle using kagglehub and Kaggle API token\n",
    "import kagglehub\n",
    "import os\n",
    "os.environ[\"KAGGLE_USERNAME\"] = \"flaphilde\"\n",
    "os.environ[\"KAGGLE_KEY\"] = \"d1e20e1b44bdd448484ec144874c4f61\""
   ]
  },
  {
   "cell_type": "code",
   "execution_count": 3,
   "id": "504e822e-4370-4cf3-be94-4097d914c086",
   "metadata": {},
   "outputs": [
    {
     "name": "stdout",
     "output_type": "stream",
     "text": [
      "Downloading from https://www.kaggle.com/api/v1/datasets/download/asaniczka/data-science-job-postings-and-skills?dataset_version_number=2...\n"
     ]
    },
    {
     "name": "stderr",
     "output_type": "stream",
     "text": [
      "100%|█████████████████████████████████████████████████████████████████████████████████████████████████████████████████████████████| 19.4M/19.4M [00:02<00:00, 9.70MB/s]"
     ]
    },
    {
     "name": "stdout",
     "output_type": "stream",
     "text": [
      "Extracting files...\n"
     ]
    },
    {
     "name": "stderr",
     "output_type": "stream",
     "text": [
      "\n"
     ]
    },
    {
     "name": "stdout",
     "output_type": "stream",
     "text": [
      "Path to dataset files: C:\\Users\\flavi\\.cache\\kagglehub\\datasets\\asaniczka\\data-science-job-postings-and-skills\\versions\\2\n"
     ]
    }
   ],
   "source": [
    "import kagglehub\n",
    "\n",
    "# Download the dataset\n",
    "path = kagglehub.dataset_download(\"asaniczka/data-science-job-postings-and-skills\")\n",
    "\n",
    "print(\"Path to dataset files:\", path)\n"
   ]
  },
  {
   "cell_type": "code",
   "execution_count": 4,
   "id": "9448c7fd-04f0-40f0-8b9e-c32cd0be144e",
   "metadata": {},
   "outputs": [
    {
     "name": "stdout",
     "output_type": "stream",
     "text": [
      "job_postings.csv\n",
      "job_skills.csv\n",
      "job_summary.csv\n"
     ]
    }
   ],
   "source": [
    "import os\n",
    "\n",
    "for file in os.listdir(path):\n",
    "    print(file)\n"
   ]
  }
 ],
 "metadata": {
  "kernelspec": {
   "display_name": "Python 3 (ipykernel)",
   "language": "python",
   "name": "python3"
  },
  "language_info": {
   "codemirror_mode": {
    "name": "ipython",
    "version": 3
   },
   "file_extension": ".py",
   "mimetype": "text/x-python",
   "name": "python",
   "nbconvert_exporter": "python",
   "pygments_lexer": "ipython3",
   "version": "3.13.3"
  }
 },
 "nbformat": 4,
 "nbformat_minor": 5
}
