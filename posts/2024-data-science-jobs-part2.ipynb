{
 "cells": [
  {
   "cell_type": "markdown",
   "id": "c23d61b7",
   "metadata": {},
   "source": [
    "---\n",
    "title: \"Data Science Job Postings 2024 (Part II): What Skills Are in Demand?\"\n",
    "description: >\n",
    "  <span class=\"description\">Analyzing required skills from LinkedIn job postings to uncover the most sought-after tools and technologies for data professionals.</span>\n",
    "date: 2025-05-20\n",
    "categories: [Data Science, EDA, Skills, Job Market]\n",
    "image: 317750_linkedin_icon.png\n",
    "format:\n",
    "  html:\n",
    "    toc: true\n",
    "    toc-depth: 2\n",
    "    code-copy: true\n",
    "    code-overflow: wrap\n",
    "    css: styles.css\n",
    "---"
   ]
  },
  {
   "cell_type": "markdown",
   "id": "2eb2c593",
   "metadata": {},
   "source": [
    "## Introduction\n",
    "\n",
    "In this second part of our analysis of the *Data Science Job Postings 2024* dataset, we shift our focus to the skills that employers are looking for.\n",
    "\n",
    "We'll explore the `job_skills.csv` file that we downloaded from Kaggle [here](https://www.kaggle.com/datasets/asaniczka/data-science-job-postings-and-skills) and:\n",
    "- Analyze the most frequently mentioned skills.\n",
    "- See how skills vary by job title or company.\n",
    "- Visualize the results for a more catchy presentation.\n",
    "\n",
    "If you missed the first part of this series, check it out [here](./2024-data-science-jobs-part1.html).\n"
   ]
  },
  {
   "cell_type": "markdown",
   "id": "cdfdeab9-f32e-43b8-90de-869526b1b1e5",
   "metadata": {},
   "source": [
    "### Load the Data"
   ]
  },
  {
   "cell_type": "markdown",
   "id": "d9a07532-dd48-42ed-917b-fe5ede745a27",
   "metadata": {},
   "source": [
    "First, let's load the libraries, the data, and set our configurations.\n",
    "We will also import the previously used dataset, job_postings.csv, as it contains the job titles associated with the skills. "
   ]
  },
  {
   "cell_type": "code",
   "execution_count": 21,
   "id": "5aab5e08",
   "metadata": {},
   "outputs": [],
   "source": [
    "import pandas as pd\n",
    "import matplotlib.pyplot as plt\n",
    "import seaborn as sns\n",
    "import textwrap\n",
    "from collections import Counter\n",
    "import altair as alt\n",
    "\n",
    "# set configurations for the visualizations\n",
    "sns.set(style=\"whitegrid\")\n",
    "plt.rcParams[\"figure.figsize\"] = (10, 5)\n",
    "\n",
    "# load the data\n",
    "df_skills = pd.read_csv(\"job_skills.csv\")\n",
    "df_postings = pd.read_csv('job_postings.csv') # used later to retrieve job titles"
   ]
  },
  {
   "cell_type": "markdown",
   "id": "fd620dd4-7f7b-4a08-a705-a74c69a02bc7",
   "metadata": {},
   "source": [
    "we will merge the two dataframes to be able to retrieve the job titles and avoid extracting it from the job links."
   ]
  },
  {
   "cell_type": "code",
   "execution_count": 22,
   "id": "2cff6cb3-5ed2-4197-9293-0925d1141d81",
   "metadata": {},
   "outputs": [
    {
     "data": {
      "text/html": [
       "<div>\n",
       "<style scoped>\n",
       "    .dataframe tbody tr th:only-of-type {\n",
       "        vertical-align: middle;\n",
       "    }\n",
       "\n",
       "    .dataframe tbody tr th {\n",
       "        vertical-align: top;\n",
       "    }\n",
       "\n",
       "    .dataframe thead th {\n",
       "        text-align: right;\n",
       "    }\n",
       "</style>\n",
       "<table border=\"1\" class=\"dataframe\">\n",
       "  <thead>\n",
       "    <tr style=\"text-align: right;\">\n",
       "      <th></th>\n",
       "      <th>job_link</th>\n",
       "      <th>job_skills</th>\n",
       "      <th>job_title</th>\n",
       "    </tr>\n",
       "  </thead>\n",
       "  <tbody>\n",
       "    <tr>\n",
       "      <th>0</th>\n",
       "      <td>https://www.linkedin.com/jobs/view/senior-mach...</td>\n",
       "      <td>Machine Learning, Programming, Python, Scala, ...</td>\n",
       "      <td>Senior Machine Learning Engineer</td>\n",
       "    </tr>\n",
       "    <tr>\n",
       "      <th>1</th>\n",
       "      <td>https://www.linkedin.com/jobs/view/principal-s...</td>\n",
       "      <td>C++, Python, PyTorch, TensorFlow, MXNet, CUDA,...</td>\n",
       "      <td>Principal Software Engineer, ML Accelerators</td>\n",
       "    </tr>\n",
       "    <tr>\n",
       "      <th>2</th>\n",
       "      <td>https://www.linkedin.com/jobs/view/senior-etl-...</td>\n",
       "      <td>ETL, Data Integration, Data Transformation, Da...</td>\n",
       "      <td>Senior ETL Data Warehouse Specialist</td>\n",
       "    </tr>\n",
       "  </tbody>\n",
       "</table>\n",
       "</div>"
      ],
      "text/plain": [
       "                                            job_link  \\\n",
       "0  https://www.linkedin.com/jobs/view/senior-mach...   \n",
       "1  https://www.linkedin.com/jobs/view/principal-s...   \n",
       "2  https://www.linkedin.com/jobs/view/senior-etl-...   \n",
       "\n",
       "                                          job_skills  \\\n",
       "0  Machine Learning, Programming, Python, Scala, ...   \n",
       "1  C++, Python, PyTorch, TensorFlow, MXNet, CUDA,...   \n",
       "2  ETL, Data Integration, Data Transformation, Da...   \n",
       "\n",
       "                                      job_title  \n",
       "0              Senior Machine Learning Engineer  \n",
       "1  Principal Software Engineer, ML Accelerators  \n",
       "2          Senior ETL Data Warehouse Specialist  "
      ]
     },
     "execution_count": 22,
     "metadata": {},
     "output_type": "execute_result"
    }
   ],
   "source": [
    "# Merge on job_link\n",
    "df_merged = pd.merge(df_skills, df_postings[['job_link', 'job_title']], on='job_link', how='left')\n",
    "df_merged.head(3)"
   ]
  },
  {
   "cell_type": "markdown",
   "id": "dd34611a-266c-4efd-bb9a-35125a833dae",
   "metadata": {},
   "source": [
    "### list of Functions\n",
    "Those functions have been used throughout the notebook:"
   ]
  },
  {
   "cell_type": "code",
   "execution_count": 23,
   "id": "d171c591-140e-4205-a9a1-673b62522926",
   "metadata": {},
   "outputs": [],
   "source": [
    "# clean and format the skills\n",
    "def clean_skills(skills_series):\n",
    "    \"\"\"\n",
    "    Clean raw skill strings: explode, strip whitespace, and lowercase.\n",
    "    Returns a Series of individual cleaned skills.\n",
    "    \"\"\"\n",
    "    skills = skills_series.dropna().str.split(',').explode()\n",
    "    return skills.str.strip().str.lower()\n",
    "\n",
    "# merged redundant skills\n",
    "def apply_skill_mapping(cleaned_skills, skill_mapping):\n",
    "    \"\"\"\n",
    "    Apply skill mapping to merge redundant skills.\n",
    "    Returns a cleaned and consolidated Series with title case.\n",
    "    \"\"\"\n",
    "    skills_mapped = cleaned_skills.replace(skill_mapping)\n",
    "    return skills_mapped.str.title()"
   ]
  },
  {
   "cell_type": "markdown",
   "id": "a0e68f5e",
   "metadata": {},
   "source": [
    "## 🧠  Most Frequently Required Skills\n",
    "*Which are the skills the most frequent skills in the job postings?*"
   ]
  },
  {
   "cell_type": "markdown",
   "id": "7c87ed24-7e68-4de7-b0e5-d5481f9d1a07",
   "metadata": {},
   "source": [
    "### 🧹 Initial Cleaning\n",
    "We need to do some cleaning here to be able to extract the skills. The dataset contains long comma-separated strings, where each string lists multiple skills required for a job. We will go through teh following steps:\n",
    "\n",
    "1. Split the string by commas, turning each skill string into a list of skills.\n",
    "2. Because the split creates a list per row, flatten these lists so that each skill becomes its own row.\n",
    "3. We remove leading and trailing spaces.\n",
    "4. We convert everything to lowercase for consistency."
   ]
  },
  {
   "cell_type": "code",
   "execution_count": 24,
   "id": "b5b09084-9dce-456c-a634-0c7ead5b4619",
   "metadata": {},
   "outputs": [
    {
     "name": "stdout",
     "output_type": "stream",
     "text": [
      "job_skills\n",
      "python                  4810\n",
      "sql                     4610\n",
      "data analysis           3293\n",
      "machine learning        2684\n",
      "communication           2506\n",
      "data visualization      2330\n",
      "aws                     1740\n",
      "project management      1737\n",
      "data engineering        1714\n",
      "communication skills    1712\n",
      "tableau                 1705\n",
      "data science            1691\n",
      "r                       1544\n",
      "data modeling           1520\n",
      "data management         1470\n",
      "java                    1434\n",
      "problem solving         1410\n",
      "data warehousing        1408\n",
      "data analytics          1402\n",
      "spark                   1395\n",
      "Name: count, dtype: int64\n"
     ]
    }
   ],
   "source": [
    "# Explode and clean individual skills\n",
    "all_skills_cleaned = clean_skills(df_merged['job_skills'])\n",
    "\n",
    "# View the most common raw cleaned skills\n",
    "skill_counts_raw = all_skills_cleaned.value_counts().head(20)\n",
    "print(skill_counts_raw)"
   ]
  },
  {
   "cell_type": "markdown",
   "id": "a553dd83-bf1d-435e-93dc-2ecef98241cd",
   "metadata": {},
   "source": [
    "As we can see, this list of skills is not fully clean, as some skills repeat under different labels, e.g., \"communication\" and \"communication skills\"."
   ]
  },
  {
   "cell_type": "markdown",
   "id": "2dee67ce-8d56-4fc0-b789-9e88cd1a5336",
   "metadata": {},
   "source": [
    "\n",
    "> ❗My recommendation for you would be to go through the full list of skills and clean it up before proceeding!"
   ]
  },
  {
   "cell_type": "markdown",
   "id": "e96e9bd8-e09e-46cd-bae3-5b125a136299",
   "metadata": {},
   "source": [
    "### 🔁 Apply Mapping to Avoid Redundant Skills\n",
    "\n",
    "Here I will just clean up those skills that I noticed being redundant throughout this notebook:"
   ]
  },
  {
   "cell_type": "code",
   "execution_count": 14,
   "id": "9ca12d9c-cf13-4587-8179-8146381dfe17",
   "metadata": {},
   "outputs": [],
   "source": [
    "# Mapping of skill variants to canonical names\n",
    "skill_mapping = {\n",
    "    'communication skills': 'communication',\n",
    "    'sql': 'SQL',\n",
    "    'python': 'Python',\n",
    "    'r': 'R',\n",
    "    'power bi': 'Power BI',\n",
    "    'aws': 'AWS',\n",
    "    'data analysis': 'Data Analysis',\n",
    "    'data analytics': 'Data Analysis',\n",
    "    'data architect': 'Data Architecture',\n",
    "    'data architecture': 'Data Architecture',\n",
    "    'tensorflow': 'TensorFlow',\n",
    "    'llms': 'LLMs',\n",
    "    'nlp': 'NLP',\n",
    "}"
   ]
  },
  {
   "cell_type": "code",
   "execution_count": 26,
   "id": "8b35b299-61f1-4733-b72d-a40c49c293c3",
   "metadata": {},
   "outputs": [
    {
     "name": "stdout",
     "output_type": "stream",
     "text": [
      "job_skills\n",
      "Python                4810\n",
      "Data Analysis         4695\n",
      "Sql                   4610\n",
      "Communication         4218\n",
      "Machine Learning      2684\n",
      "Data Visualization    2330\n",
      "Aws                   1740\n",
      "Project Management    1737\n",
      "Data Engineering      1714\n",
      "Tableau               1705\n",
      "Data Science          1691\n",
      "R                     1544\n",
      "Data Modeling         1520\n",
      "Data Management       1470\n",
      "Java                  1434\n",
      "Problem Solving       1410\n",
      "Data Warehousing      1408\n",
      "Spark                 1395\n",
      "Teamwork              1227\n",
      "Analytical Skills     1219\n",
      "Name: count, dtype: int64\n"
     ]
    }
   ],
   "source": [
    "# Apply mapping\n",
    "all_skills_mapped = apply_skill_mapping(all_skills_cleaned, skill_mapping)\n",
    "\n",
    "# Count most common final skills\n",
    "skill_counts = all_skills_mapped.value_counts().head(20)\n",
    "print(skill_counts)"
   ]
  },
  {
   "cell_type": "markdown",
   "id": "111716f1-479e-4ef2-8242-ae09b08ead98",
   "metadata": {},
   "source": [
    "### 🔝 The 20 Most In-Demand Skills in Data Job Postings\n",
    "\n",
    "Let's plot now the top 20 skills.\n",
    "\n",
    "We also:\n",
    "\n",
    "* Invert the y-axis to have the most common skill at the top.\n",
    "* Add counts on the bars to show exact frequencies."
   ]
  },
  {
   "cell_type": "code",
   "execution_count": 29,
   "id": "3ae10bf8-25e5-4c57-88e6-e421d485e7a3",
   "metadata": {},
   "outputs": [
    {
     "data": {
      "image/png": "[encoded data removed]",
      "text/plain": [
       "<Figure size 1400x800 with 1 Axes>"
      ]
     },
     "metadata": {},
     "output_type": "display_data"
    }
   ],
   "source": [
    "# Plot top 20 skills:\n",
    "plt.figure(figsize=(14, 8))\n",
    "bars = plt.barh(skill_counts.index, skill_counts.values, color='cornflowerblue')\n",
    "plt.gca().invert_yaxis()  # Show the most frequent skill at the top\n",
    "\n",
    "# Add frequency labels to each bar\n",
    "for bar in bars:\n",
    "    width = bar.get_width()\n",
    "    plt.text(width + 1, bar.get_y() + bar.get_height()/2, str(width), va='center')\n",
    "\n",
    "plt.title(\"Top 20 In-Demand Skills\", fontsize=16)\n",
    "plt.xlabel(\"Frequency\", fontsize=12)\n",
    "plt.tight_layout()\n",
    "plt.show()"
   ]
  },
  {
   "cell_type": "markdown",
   "id": "9dd5896b",
   "metadata": {},
   "source": [
    "## 🔝 Top Skills by Job Title\n",
    "\n",
    "*How do skill requirements vary across different job titles?*\n"
   ]
  },
  {
   "cell_type": "markdown",
   "id": "8ceb981c-c6c7-4726-a6b1-2c6ab6581dec",
   "metadata": {},
   "source": [
    "We will now built an interactive graphic to show for the top 10 in deman jobs the 10 most required skills."
   ]
  },
  {
   "cell_type": "markdown",
   "id": "d86a6010-f6b1-40f3-8df5-5fa6b1724620",
   "metadata": {},
   "source": [
    "Firstly we will build a new dataframe with the selected job titles and most required skills for them, and we will count the frequency for each skill. We will use this dataframe to create the graphic.\n",
    "\n",
    "We will do it in the following steps:\n",
    "\n",
    "1. Extract top 10 job titles\n",
    "2. Get the top 10 skills for each job title\n",
    "3. Count the frequency of each skill for each job title"
   ]
  },
  {
   "cell_type": "code",
   "execution_count": 32,
   "id": "f6af317c",
   "metadata": {},
   "outputs": [],
   "source": [
    "# Get the top 10 most frequent job titles\n",
    "top_titles = df_merged['job_title'].value_counts().head(10).index.tolist()"
   ]
  },
  {
   "cell_type": "code",
   "execution_count": 34,
   "id": "4d574878-893b-4964-8ad6-bd37b7581d5d",
   "metadata": {},
   "outputs": [],
   "source": [
    "# Get the top 10 skills for the top 10 job titles\n",
    "rows = []\n",
    "\n",
    "for title in top_titles:\n",
    "    # Get relevant skill strings for this title\n",
    "    skills_series = df_merged[df_merged['job_title'] == title]['job_skills']\n",
    "    \n",
    "    # Clean raw skills\n",
    "    cleaned_skills = clean_skills(skills_series)\n",
    "\n",
    "    # Apply skill mapping to avoid redundancy\n",
    "    mapped_skills = apply_skill_mapping(cleaned_skills, skill_mapping)\n",
    "    \n",
    "    # Count the top 10 skills\n",
    "    skill_counts = mapped_skills.value_counts().head(10)\n",
    "\n",
    "    # Step 4: Append to list\n",
    "    for skill, count in skill_counts.items():\n",
    "        rows.append({\n",
    "            'job_title': title,\n",
    "            'job_skill': skill,\n",
    "            'count': count\n",
    "        })"
   ]
  },
  {
   "cell_type": "code",
   "execution_count": 36,
   "id": "6d401372-865f-4ee1-97d2-7b94e54e2d86",
   "metadata": {},
   "outputs": [
    {
     "data": {
      "text/html": [
       "<div>\n",
       "<style scoped>\n",
       "    .dataframe tbody tr th:only-of-type {\n",
       "        vertical-align: middle;\n",
       "    }\n",
       "\n",
       "    .dataframe tbody tr th {\n",
       "        vertical-align: top;\n",
       "    }\n",
       "\n",
       "    .dataframe thead th {\n",
       "        text-align: right;\n",
       "    }\n",
       "</style>\n",
       "<table border=\"1\" class=\"dataframe\">\n",
       "  <thead>\n",
       "    <tr style=\"text-align: right;\">\n",
       "      <th></th>\n",
       "      <th>job_title</th>\n",
       "      <th>job_skill</th>\n",
       "      <th>count</th>\n",
       "    </tr>\n",
       "  </thead>\n",
       "  <tbody>\n",
       "    <tr>\n",
       "      <th>40</th>\n",
       "      <td>Data Analyst</td>\n",
       "      <td>Data Analysis</td>\n",
       "      <td>126</td>\n",
       "    </tr>\n",
       "    <tr>\n",
       "      <th>41</th>\n",
       "      <td>Data Analyst</td>\n",
       "      <td>Sql</td>\n",
       "      <td>89</td>\n",
       "    </tr>\n",
       "    <tr>\n",
       "      <th>42</th>\n",
       "      <td>Data Analyst</td>\n",
       "      <td>Data Visualization</td>\n",
       "      <td>73</td>\n",
       "    </tr>\n",
       "  </tbody>\n",
       "</table>\n",
       "</div>"
      ],
      "text/plain": [
       "       job_title           job_skill  count\n",
       "40  Data Analyst       Data Analysis    126\n",
       "41  Data Analyst                 Sql     89\n",
       "42  Data Analyst  Data Visualization     73"
      ]
     },
     "execution_count": 36,
     "metadata": {},
     "output_type": "execute_result"
    }
   ],
   "source": [
    "# Convert to DataFrame\n",
    "top_skills_filtered = pd.DataFrame(rows)\n",
    "top_skills_filtered = top_skills_filtered.sort_values(['job_title', 'count'], ascending=[True, False])\n",
    "\n",
    "top_skills_filtered.head(3)"
   ]
  },
  {
   "cell_type": "code",
   "execution_count": 38,
   "id": "5c6164f6-7830-4690-a1d9-de01a5bd4d6e",
   "metadata": {},
   "outputs": [
    {
     "data": {
      "text/html": [
       "\n",
       "<style>\n",
       "  #altair-viz-95acbc60402f48d5af01dc90aa34633c.vega-embed {\n",
       "    width: 100%;\n",
       "    display: flex;\n",
       "  }\n",
       "\n",
       "  #altair-viz-95acbc60402f48d5af01dc90aa34633c.vega-embed details,\n",
       "  #altair-viz-95acbc60402f48d5af01dc90aa34633c.vega-embed details summary {\n",
       "    position: relative;\n",
       "  }\n",
       "</style>\n",
       "<div id=\"altair-viz-95acbc60402f48d5af01dc90aa34633c\"></div>\n",
       "<script type=\"text/javascript\">\n",
       "  var VEGA_DEBUG = (typeof VEGA_DEBUG == \"undefined\") ? {} : VEGA_DEBUG;\n",
       "  (function(spec, embedOpt){\n",
       "    let outputDiv = document.currentScript.previousElementSibling;\n",
       "    if (outputDiv.id !== \"altair-viz-95acbc60402f48d5af01dc90aa34633c\") {\n",
       "      outputDiv = document.getElementById(\"altair-viz-95acbc60402f48d5af01dc90aa34633c\");\n",
       "    }\n",
       "\n",
       "    const paths = {\n",
       "      \"vega\": \"https://cdn.jsdelivr.net/npm/vega@5?noext\",\n",
       "      \"vega-lib\": \"https://cdn.jsdelivr.net/npm/vega-lib?noext\",\n",
       "      \"vega-lite\": \"https://cdn.jsdelivr.net/npm/vega-lite@5.20.1?noext\",\n",
       "      \"vega-embed\": \"https://cdn.jsdelivr.net/npm/vega-embed@6?noext\",\n",
       "    };\n",
       "\n",
       "    function maybeLoadScript(lib, version) {\n",
       "      var key = `${lib.replace(\"-\", \"\")}_version`;\n",
       "      return (VEGA_DEBUG[key] == version) ?\n",
       "        Promise.resolve(paths[lib]) :\n",
       "        new Promise(function(resolve, reject) {\n",
       "          var s = document.createElement('script');\n",
       "          document.getElementsByTagName(\"head\")[0].appendChild(s);\n",
       "          s.async = true;\n",
       "          s.onload = () => {\n",
       "            VEGA_DEBUG[key] = version;\n",
       "            return resolve(paths[lib]);\n",
       "          };\n",
       "          s.onerror = () => reject(`Error loading script: ${paths[lib]}`);\n",
       "          s.src = paths[lib];\n",
       "        });\n",
       "    }\n",
       "\n",
       "    function showError(err) {\n",
       "      outputDiv.innerHTML = `<div class=\"error\" style=\"color:red;\">${err}</div>`;\n",
       "      throw err;\n",
       "    }\n",
       "\n",
       "    function displayChart(vegaEmbed) {\n",
       "      vegaEmbed(outputDiv, spec, embedOpt)\n",
       "        .catch(err => showError(`Javascript Error: ${err.message}<br>This usually means there's a typo in your chart specification. See the javascript console for the full traceback.`));\n",
       "    }\n",
       "\n",
       "    if(typeof define === \"function\" && define.amd) {\n",
       "      requirejs.config({paths});\n",
       "      let deps = [\"vega-embed\"];\n",
       "      require(deps, displayChart, err => showError(`Error loading script: ${err.message}`));\n",
       "    } else {\n",
       "      maybeLoadScript(\"vega\", \"5\")\n",
       "        .then(() => maybeLoadScript(\"vega-lite\", \"5.20.1\"))\n",
       "        .then(() => maybeLoadScript(\"vega-embed\", \"6\"))\n",
       "        .catch(showError)\n",
       "        .then(() => displayChart(vegaEmbed));\n",
       "    }\n",
       "  })({\"config\": {\"view\": {\"continuousWidth\": 300, \"continuousHeight\": 300}}, \"data\": {\"name\": \"data-699814839693a71ae1797785afea02e7\"}, \"mark\": {\"type\": \"bar\", \"color\": \"cornflowerblue\"}, \"encoding\": {\"tooltip\": [{\"field\": \"job_skill\", \"type\": \"nominal\"}, {\"field\": \"count\", \"type\": \"quantitative\"}], \"x\": {\"field\": \"count\", \"title\": \"Count\", \"type\": \"quantitative\"}, \"y\": {\"field\": \"job_skill\", \"sort\": \"-x\", \"title\": \"Skill\", \"type\": \"nominal\"}}, \"height\": 400, \"params\": [{\"name\": \"param_2\", \"select\": {\"type\": \"point\", \"fields\": [\"job_title\"]}, \"bind\": {\"input\": \"select\", \"options\": [\"Data Analyst\", \"Data Architect\", \"Data Engineer\", \"Data Scientist\", \"Lead Data Engineer\", \"Senior Data Analyst\", \"Senior Data Engineer\", \"Senior Data Scientist\", \"Senior MLOps Engineer\", \"Staff Machine Learning Engineer, Series A\"], \"name\": \"Job Title: \"}}], \"title\": \"Top 10 Skills by Job Title\", \"transform\": [{\"filter\": {\"param\": \"param_2\"}}], \"width\": 600, \"$schema\": \"https://vega.github.io/schema/vega-lite/v5.20.1.json\", \"datasets\": {\"data-699814839693a71ae1797785afea02e7\": [{\"job_title\": \"Data Analyst\", \"job_skill\": \"Data Analysis\", \"count\": 126}, {\"job_title\": \"Data Analyst\", \"job_skill\": \"Sql\", \"count\": 89}, {\"job_title\": \"Data Analyst\", \"job_skill\": \"Data Visualization\", \"count\": 73}, {\"job_title\": \"Data Analyst\", \"job_skill\": \"Communication\", \"count\": 67}, {\"job_title\": \"Data Analyst\", \"job_skill\": \"Tableau\", \"count\": 50}, {\"job_title\": \"Data Analyst\", \"job_skill\": \"Python\", \"count\": 45}, {\"job_title\": \"Data Analyst\", \"job_skill\": \"Power Bi\", \"count\": 42}, {\"job_title\": \"Data Analyst\", \"job_skill\": \"Excel\", \"count\": 32}, {\"job_title\": \"Data Analyst\", \"job_skill\": \"R\", \"count\": 30}, {\"job_title\": \"Data Analyst\", \"job_skill\": \"Statistics\", \"count\": 25}, {\"job_title\": \"Data Architect\", \"job_skill\": \"Data Architecture\", \"count\": 96}, {\"job_title\": \"Data Architect\", \"job_skill\": \"Data Modeling\", \"count\": 49}, {\"job_title\": \"Data Architect\", \"job_skill\": \"Data Governance\", \"count\": 46}, {\"job_title\": \"Data Architect\", \"job_skill\": \"Data Analysis\", \"count\": 40}, {\"job_title\": \"Data Architect\", \"job_skill\": \"Data Warehousing\", \"count\": 40}, {\"job_title\": \"Data Architect\", \"job_skill\": \"Sql\", \"count\": 38}, {\"job_title\": \"Data Architect\", \"job_skill\": \"Data Management\", \"count\": 34}, {\"job_title\": \"Data Architect\", \"job_skill\": \"Data Integration\", \"count\": 32}, {\"job_title\": \"Data Architect\", \"job_skill\": \"Communication\", \"count\": 32}, {\"job_title\": \"Data Architect\", \"job_skill\": \"Data Quality\", \"count\": 32}, {\"job_title\": \"Data Engineer\", \"job_skill\": \"Python\", \"count\": 99}, {\"job_title\": \"Data Engineer\", \"job_skill\": \"Sql\", \"count\": 89}, {\"job_title\": \"Data Engineer\", \"job_skill\": \"Data Engineering\", \"count\": 78}, {\"job_title\": \"Data Engineer\", \"job_skill\": \"Data Analysis\", \"count\": 56}, {\"job_title\": \"Data Engineer\", \"job_skill\": \"Data Modeling\", \"count\": 50}, {\"job_title\": \"Data Engineer\", \"job_skill\": \"Data Warehousing\", \"count\": 42}, {\"job_title\": \"Data Engineer\", \"job_skill\": \"Spark\", \"count\": 39}, {\"job_title\": \"Data Engineer\", \"job_skill\": \"Aws\", \"count\": 39}, {\"job_title\": \"Data Engineer\", \"job_skill\": \"Java\", \"count\": 37}, {\"job_title\": \"Data Engineer\", \"job_skill\": \"Data Pipelines\", \"count\": 33}, {\"job_title\": \"Data Scientist\", \"job_skill\": \"Python\", \"count\": 102}, {\"job_title\": \"Data Scientist\", \"job_skill\": \"Machine Learning\", \"count\": 87}, {\"job_title\": \"Data Scientist\", \"job_skill\": \"Data Science\", \"count\": 76}, {\"job_title\": \"Data Scientist\", \"job_skill\": \"Sql\", \"count\": 72}, {\"job_title\": \"Data Scientist\", \"job_skill\": \"Data Analysis\", \"count\": 72}, {\"job_title\": \"Data Scientist\", \"job_skill\": \"R\", \"count\": 55}, {\"job_title\": \"Data Scientist\", \"job_skill\": \"Data Visualization\", \"count\": 54}, {\"job_title\": \"Data Scientist\", \"job_skill\": \"Statistics\", \"count\": 44}, {\"job_title\": \"Data Scientist\", \"job_skill\": \"Communication\", \"count\": 40}, {\"job_title\": \"Data Scientist\", \"job_skill\": \"Tableau\", \"count\": 30}, {\"job_title\": \"Lead Data Engineer\", \"job_skill\": \"Python\", \"count\": 104}, {\"job_title\": \"Lead Data Engineer\", \"job_skill\": \"Scala\", \"count\": 82}, {\"job_title\": \"Lead Data Engineer\", \"job_skill\": \"Spark\", \"count\": 81}, {\"job_title\": \"Lead Data Engineer\", \"job_skill\": \"Java\", \"count\": 80}, {\"job_title\": \"Lead Data Engineer\", \"job_skill\": \"Snowflake\", \"count\": 72}, {\"job_title\": \"Lead Data Engineer\", \"job_skill\": \"Kafka\", \"count\": 72}, {\"job_title\": \"Lead Data Engineer\", \"job_skill\": \"Aws\", \"count\": 71}, {\"job_title\": \"Lead Data Engineer\", \"job_skill\": \"Redshift\", \"count\": 69}, {\"job_title\": \"Lead Data Engineer\", \"job_skill\": \"Hadoop\", \"count\": 67}, {\"job_title\": \"Lead Data Engineer\", \"job_skill\": \"Sql\", \"count\": 62}, {\"job_title\": \"Senior Data Analyst\", \"job_skill\": \"Data Analysis\", \"count\": 153}, {\"job_title\": \"Senior Data Analyst\", \"job_skill\": \"Sql\", \"count\": 142}, {\"job_title\": \"Senior Data Analyst\", \"job_skill\": \"Python\", \"count\": 97}, {\"job_title\": \"Senior Data Analyst\", \"job_skill\": \"Data Visualization\", \"count\": 92}, {\"job_title\": \"Senior Data Analyst\", \"job_skill\": \"Tableau\", \"count\": 79}, {\"job_title\": \"Senior Data Analyst\", \"job_skill\": \"Communication\", \"count\": 77}, {\"job_title\": \"Senior Data Analyst\", \"job_skill\": \"R\", \"count\": 66}, {\"job_title\": \"Senior Data Analyst\", \"job_skill\": \"Power Bi\", \"count\": 47}, {\"job_title\": \"Senior Data Analyst\", \"job_skill\": \"Data Warehousing\", \"count\": 42}, {\"job_title\": \"Senior Data Analyst\", \"job_skill\": \"Machine Learning\", \"count\": 37}, {\"job_title\": \"Senior Data Engineer\", \"job_skill\": \"Python\", \"count\": 237}, {\"job_title\": \"Senior Data Engineer\", \"job_skill\": \"Sql\", \"count\": 190}, {\"job_title\": \"Senior Data Engineer\", \"job_skill\": \"Data Engineering\", \"count\": 156}, {\"job_title\": \"Senior Data Engineer\", \"job_skill\": \"Spark\", \"count\": 119}, {\"job_title\": \"Senior Data Engineer\", \"job_skill\": \"Java\", \"count\": 117}, {\"job_title\": \"Senior Data Engineer\", \"job_skill\": \"Aws\", \"count\": 115}, {\"job_title\": \"Senior Data Engineer\", \"job_skill\": \"Snowflake\", \"count\": 111}, {\"job_title\": \"Senior Data Engineer\", \"job_skill\": \"Data Warehousing\", \"count\": 106}, {\"job_title\": \"Senior Data Engineer\", \"job_skill\": \"Scala\", \"count\": 103}, {\"job_title\": \"Senior Data Engineer\", \"job_skill\": \"Kafka\", \"count\": 95}, {\"job_title\": \"Senior Data Scientist\", \"job_skill\": \"Python\", \"count\": 104}, {\"job_title\": \"Senior Data Scientist\", \"job_skill\": \"Machine Learning\", \"count\": 103}, {\"job_title\": \"Senior Data Scientist\", \"job_skill\": \"Data Science\", \"count\": 86}, {\"job_title\": \"Senior Data Scientist\", \"job_skill\": \"Sql\", \"count\": 71}, {\"job_title\": \"Senior Data Scientist\", \"job_skill\": \"R\", \"count\": 60}, {\"job_title\": \"Senior Data Scientist\", \"job_skill\": \"Data Analysis\", \"count\": 56}, {\"job_title\": \"Senior Data Scientist\", \"job_skill\": \"Statistics\", \"count\": 52}, {\"job_title\": \"Senior Data Scientist\", \"job_skill\": \"Communication\", \"count\": 42}, {\"job_title\": \"Senior Data Scientist\", \"job_skill\": \"Data Mining\", \"count\": 42}, {\"job_title\": \"Senior Data Scientist\", \"job_skill\": \"Data Visualization\", \"count\": 41}, {\"job_title\": \"Senior MLOps Engineer\", \"job_skill\": \"Probabilistic Graphs\", \"count\": 133}, {\"job_title\": \"Senior MLOps Engineer\", \"job_skill\": \"Reinforcement Learning\", \"count\": 133}, {\"job_title\": \"Senior MLOps Engineer\", \"job_skill\": \"Data Engineering\", \"count\": 129}, {\"job_title\": \"Senior MLOps Engineer\", \"job_skill\": \"Deep Learning\", \"count\": 128}, {\"job_title\": \"Senior MLOps Engineer\", \"job_skill\": \"Workflow Orchestration\", \"count\": 116}, {\"job_title\": \"Senior MLOps Engineer\", \"job_skill\": \"Nlp\", \"count\": 114}, {\"job_title\": \"Senior MLOps Engineer\", \"job_skill\": \"Llms\", \"count\": 113}, {\"job_title\": \"Senior MLOps Engineer\", \"job_skill\": \"Flexibility\", \"count\": 113}, {\"job_title\": \"Senior MLOps Engineer\", \"job_skill\": \"Autonomy\", \"count\": 108}, {\"job_title\": \"Senior MLOps Engineer\", \"job_skill\": \"Monitoring\", \"count\": 107}, {\"job_title\": \"Staff Machine Learning Engineer, Series A\", \"job_skill\": \"Python\", \"count\": 94}, {\"job_title\": \"Staff Machine Learning Engineer, Series A\", \"job_skill\": \"Tensorflow\", \"count\": 92}, {\"job_title\": \"Staff Machine Learning Engineer, Series A\", \"job_skill\": \"Machine Learning\", \"count\": 91}, {\"job_title\": \"Staff Machine Learning Engineer, Series A\", \"job_skill\": \"Jupyter\", \"count\": 88}, {\"job_title\": \"Staff Machine Learning Engineer, Series A\", \"job_skill\": \"Numpy\", \"count\": 88}, {\"job_title\": \"Staff Machine Learning Engineer, Series A\", \"job_skill\": \"Pandas\", \"count\": 88}, {\"job_title\": \"Staff Machine Learning Engineer, Series A\", \"job_skill\": \"Numba\", \"count\": 87}, {\"job_title\": \"Staff Machine Learning Engineer, Series A\", \"job_skill\": \"Agile Methodologies\", \"count\": 83}, {\"job_title\": \"Staff Machine Learning Engineer, Series A\", \"job_skill\": \"Audio Classification\", \"count\": 65}, {\"job_title\": \"Staff Machine Learning Engineer, Series A\", \"job_skill\": \"Torch\", \"count\": 65}]}}, {\"mode\": \"vega-lite\"});\n",
       "</script>"
      ],
      "text/plain": [
       "alt.Chart(...)"
      ]
     },
     "execution_count": 38,
     "metadata": {},
     "output_type": "execute_result"
    }
   ],
   "source": [
    "import altair as alt\n",
    "\n",
    "# Create a dropdown selection for job title\n",
    "title_dropdown = alt.binding_select(options=top_skills_filtered['job_title'].unique().tolist(), name='Job Title: ')\n",
    "selection = alt.selection_point(fields=['job_title'], bind=title_dropdown)\n",
    "\n",
    "# Build the chart\n",
    "chart = (\n",
    "    alt.Chart(top_skills_filtered)\n",
    "    .transform_filter(selection)\n",
    "    .mark_bar(color='cornflowerblue')\n",
    "    .encode(\n",
    "        x=alt.X('count:Q', title='Count'),\n",
    "        y=alt.Y('job_skill:N', sort='-x', title='Skill'),\n",
    "        tooltip=['job_skill', 'count']\n",
    "    )\n",
    "    .add_params(selection)\n",
    "    .properties(\n",
    "        title='Top 10 Skills by Job Title',\n",
    "        width=600,\n",
    "        height=400\n",
    "    )\n",
    ")\n",
    "\n",
    "chart\n"
   ]
  },
  {
   "cell_type": "markdown",
   "id": "10d993d4",
   "metadata": {},
   "source": [
    "## Conclusion\n",
    "\n",
    "This analysis gives us a clearer picture of the technical expectations for data science professionals in 2024. Python, Data Analysis, SQL, and machine learning are core skills core skills, but don't forget that communication, teamwork, problem solving, and other soft skills are also essential!\n",
    "\n",
    "Also, please keep in mind that those results rely on a dataset that has been generated by scraping jobs from LinkedIn, and that it may be biased toward english speaking jobs and the english speaking market. See the Part I of this analysis [here](./2024-data-science-jobs-part1.html) to have an overview of the top locations and companies considered in this project. \n",
    "\n",
    "In the next post, we’ll analyze job summaries using NLP techniques to uncover trends in job descriptions.\n"
   ]
  }
 ],
 "metadata": {
  "kernelspec": {
   "display_name": "Python 3 (ipykernel)",
   "language": "python",
   "name": "python3"
  },
  "language_info": {
   "codemirror_mode": {
    "name": "ipython",
    "version": 3
   },
   "file_extension": ".py",
   "mimetype": "text/x-python",
   "name": "python",
   "nbconvert_exporter": "python",
   "pygments_lexer": "ipython3",
   "version": "3.13.3"
  }
 },
 "nbformat": 4,
 "nbformat_minor": 5
}
